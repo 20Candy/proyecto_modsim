{
 "cells": [
  {
   "cell_type": "markdown",
   "metadata": {},
   "source": [
    "#### Modelado de colas de espera en un hospital público de Guatemala\n",
    "Integrantes: Stefano Aragoni, Luis Diego Santos, Carol Arevalo, Diego Perdomo\n",
    "\n"
   ]
  },
  {
   "cell_type": "markdown",
   "metadata": {},
   "source": [
    "El sistema de salud pública en Guatemala, como en muchos otros países, enfrenta desafíos significativos. Uno de los más críticos es la prolongada espera que los pacientes deben soportar antes de recibir atención médica. Estas colas de espera pueden tener consecuencias graves, incluida una atención médica de menor calidad y una experiencia del paciente desfavorable. Este proyecto busca abordar este problema a través de técnicas avanzadas de modelado y simulación."
   ]
  },
  {
   "cell_type": "markdown",
   "metadata": {},
   "source": [
    "Hospital Roosvelt de Guatemala\n",
    "\n",
    "- Cuenta con tres emergencias maternidad, adultos y pediatria\n",
    "- Tiene capacidad para 950 pacientes en cama\n",
    "- Se tine una capcidad de 50 pacientes en el area de emergencias\n",
    "- Hay nueve camas para observación, 20 bancas para inhaloterapia y cuatro cuartos de shock.\n",
    "- Diariamente atienden a un promedio de 2120 pacientes. \n",
    "- El 68.4% de los pacientes son consulta externa\n",
    "- El 23.6% de los pacientes son de urgencias\n",
    "- El 3.3% de los pacientes son hospitalizados\n",
    "- El 2.4% de los pacientes son partos\n",
    "- El 1.6% de los pacientes son cirugias selectivas\n",
    "- El 0.4% de los pacientes entran a urgencias por traumas. \n",
    "- El 0.3% de los pacientes entran por obstetricia. \n",
    "\n",
    "\n",
    "Al entrar a urgencias:\n",
    "1. Médicos evalúan si son casos que requieren atención de urgencia\n",
    "2. Hay 4 clinicas de clasificacion. \n",
    "3. El 60% de los casos que entran a emergencias son *emfermedades comunes*. Estos son tratados en la clínica, con un tiempo de espera de 15 minutos.\n",
    "4. Las *urgencias* son heridas, elevación de presión, deshidratación, o casos que merecen una atención mayor, estos pasan con un especialista, dijo el facultativo.\n",
    "5. Cuando la persona llega con una herida de arma blanca o de fuego, con traumatismo, politraumatismo o complicaciones de enfermedades crónicas, se trata de una emergencia e ingresan cuanto antes para ser tratada en el área de Traumatología, Medicina interna o Cirugía.Estas personas entran a clinica de *claisificacion 1* directamente (desde ambulancias)\n",
    "4. El tiempo de espera promedio era de 4 horas\n",
    "\n",
    "\n",
    "\n"
   ]
  },
  {
   "cell_type": "markdown",
   "metadata": {},
   "source": [
    "#### Simulación del flujo de pacientes en urgencias en el Hospital Roosevelt de Guatemala."
   ]
  },
  {
   "cell_type": "markdown",
   "metadata": {},
   "source": [
    "##### 1. Definiciones y Parámetros Iniciales:\n",
    "\n",
    "Empezamos por definir las constantes y parámetros basados en la información que has proporcionado:"
   ]
  },
  {
   "cell_type": "code",
   "execution_count": 25,
   "metadata": {},
   "outputs": [],
   "source": [
    "import random\n",
    "\n",
    "# Capacidades y parámetros del hospital\n",
    "CAPACIDAD_EMERGENCIAS = 50\n",
    "PACIENTES_POR_DIA = 2120\n",
    "PORCENTAJE_URGENCIAS = 0.236\n",
    "\n",
    "# Probabilidades para clasificación\n",
    "PROB_ENFERMEDADES_COMUNES = 0.60\n",
    "PROB_URGENCIAS_ESPECIALISTA = 1 - PROB_ENFERMEDADES_COMUNES\n",
    "\n",
    "# Tiempo de espera\n",
    "TIEMPO_ESPERA_COMUNES = 15 / 60  # Convertimos minutos a horas\n",
    "TIEMPO_ESPERA_PROMEDIO = 4  # en horas\n"
   ]
  },
  {
   "cell_type": "markdown",
   "metadata": {},
   "source": [
    "#### 2. Funciones de Simulación:\n",
    "\n",
    "Las siguientes funciones nos ayudarán a simular la llegada de pacientes y su procesamiento en emergencias:"
   ]
  },
  {
   "cell_type": "code",
   "execution_count": 26,
   "metadata": {},
   "outputs": [],
   "source": [
    "def clasificar_paciente():\n",
    "    \"\"\"\n",
    "    Clasifica al paciente en base a probabilidades y regresa el tiempo de espera correspondiente.\n",
    "    \"\"\"\n",
    "    rand_num = random.random()\n",
    "    \n",
    "    if rand_num <= PROB_ENFERMEDADES_COMUNES:\n",
    "        return TIEMPO_ESPERA_COMUNES\n",
    "    else:\n",
    "        return TIEMPO_ESPERA_PROMEDIO\n",
    "\n",
    "def simular_dia():\n",
    "    \"\"\"\n",
    "    Simula un día en el hospital y regresa una lista con los tiempos de espera de los pacientes en urgencias.\n",
    "    \"\"\"\n",
    "    num_pacientes_urgencias = int(PACIENTES_POR_DIA * PORCENTAJE_URGENCIAS)\n",
    "    tiempos_espera = []\n",
    "\n",
    "    for _ in range(num_pacientes_urgencias):\n",
    "        tiempo_espera = clasificar_paciente()\n",
    "        tiempos_espera.append(tiempo_espera)\n",
    "\n",
    "    return tiempos_espera\n"
   ]
  },
  {
   "cell_type": "markdown",
   "metadata": {},
   "source": [
    "3. Ejecución y Análisis:\n",
    "Ahora, podemos ejecutar la simulación y obtener algunos resultados de interés:\n",
    "\n"
   ]
  },
  {
   "cell_type": "code",
   "execution_count": 27,
   "metadata": {},
   "outputs": [
    {
     "name": "stdout",
     "output_type": "stream",
     "text": [
      "Promedio de tiempo de espera: 1.87 horas\n",
      "Pacientes que esperaron más de 4 horas: 216\n"
     ]
    }
   ],
   "source": [
    "def main():\n",
    "    tiempos_espera = simular_dia()\n",
    "    \n",
    "    promedio_espera = sum(tiempos_espera) / len(tiempos_espera)\n",
    "    pacientes_sobre_4_horas = sum(1 for t in tiempos_espera if t >= 4)\n",
    "\n",
    "    print(f\"Promedio de tiempo de espera: {promedio_espera:.2f} horas\")\n",
    "    print(f\"Pacientes que esperaron más de 4 horas: {pacientes_sobre_4_horas}\")\n",
    "\n",
    "if __name__ == \"__main__\":\n",
    "    main()\n"
   ]
  },
  {
   "cell_type": "markdown",
   "metadata": {},
   "source": [
    "#### Simulación basada en agentes del flujo de pacientes en urgencias en el Hospital Roosevelt de Guatemala."
   ]
  },
  {
   "cell_type": "markdown",
   "metadata": {},
   "source": [
    "#### 1. Definición de Agentes:\n",
    "\n",
    "Definiremos dos clases básicas: Paciente y Clinica."
   ]
  },
  {
   "cell_type": "code",
   "execution_count": 31,
   "metadata": {},
   "outputs": [],
   "source": [
    "from mesa import Agent\n",
    "import random\n",
    "\n",
    "class Paciente(Agent):\n",
    "    def __init__(self, unique_id, model):\n",
    "        super().__init__(unique_id, model)\n",
    "        self.tiempo_espera = 0\n",
    "        self.estado = 'entrando'\n",
    "        self.clinica_asignada = None\n",
    "\n",
    "    def step(self):\n",
    "        if self.estado == 'entrando':\n",
    "            clinica_clasificadora_disponible = self.model.clinica_disponible(tipo_clinica=ClinicaClasificadora)\n",
    "            if clinica_clasificadora_disponible:\n",
    "                self.clinica_asignada = clinica_clasificadora_disponible\n",
    "                self.clinica_asignada.atender_paciente()\n",
    "                clasificacion = self.clinica_asignada.clasificar_paciente()\n",
    "\n",
    "                if clasificacion == 'enfermedad_comun':\n",
    "                    clinica_target = self.model.clinica_disponible(tipo_clinica=ClinicaEnfermedadesComunes)\n",
    "                elif clasificacion == 'urgencia':\n",
    "                    clinica_target = self.model.clinica_disponible(tipo_clinica=ClinicaUrgencias)\n",
    "                elif clasificacion == 'clasificacion_1':\n",
    "                    clinica_target = self.model.clinica_disponible(tipo_clinica=ClinicaClasificacion1)\n",
    "\n",
    "                if clinica_target: # Si hay una clínica del tipo correcto disponible\n",
    "                    self.clinica_asignada.liberar()  # Libera la clínica clasificadora\n",
    "                    self.clinica_asignada = clinica_target\n",
    "                    self.clinica_asignada.atender_paciente()\n",
    "                    self.estado = clasificacion\n",
    "\n",
    "                    if clasificacion == 'enfermedad_comun':\n",
    "                        self.model.pacientes_enfermedad_comun += 1\n",
    "                        self.model.tiempo_espera_enfermedad_comun += clinica_target.tiempo_espera()\n",
    "                    elif clasificacion == 'urgencia':\n",
    "                        self.model.pacientes_urgencias += 1\n",
    "                        self.model.tiempo_espera_urgencias += clinica_target.tiempo_espera()\n",
    "                    elif clasificacion == 'clasificacion_1':\n",
    "                        self.model.pacientes_clasificacion_1 += 1\n",
    "                        self.model.tiempo_espera_clasificacion_1 += clinica_target.tiempo_espera()\n",
    "\n",
    "\n",
    "class Clinica(Agent):\n",
    "    # Esta clase actúa como una clase base o \"padre\" para las clínicas específicas.\n",
    "    def __init__(self, unique_id, model, capacidad=1):\n",
    "        super().__init__(unique_id, model)\n",
    "        self.capacidad = capacidad\n",
    "        self.pacientes_actualmente = 0\n",
    "\n",
    "    def atender_paciente(self):\n",
    "        self.pacientes_actualmente += 1\n",
    "\n",
    "    def liberar(self):\n",
    "        self.pacientes_actualmente -= 1\n",
    "        if self.pacientes_actualmente < 0:\n",
    "            self.pacientes_actualmente = 0\n",
    "\n",
    "    def esta_disponible(self):\n",
    "        return self.pacientes_actualmente < self.capacidad\n",
    "\n",
    "class ClinicaEnfermedadesComunes(Clinica):\n",
    "    def __init__(self, unique_id, model, capacidad=10):  # capacidad default es 10\n",
    "        super().__init__(unique_id, model, capacidad)\n",
    "    \n",
    "    def tiempo_espera(self):\n",
    "        return random.randint(5, 30) \n",
    "\n",
    "class ClinicaUrgencias(Clinica):\n",
    "    def __init__(self, unique_id, model, capacidad=5):  # capacidad default es 5\n",
    "        super().__init__(unique_id, model, capacidad)\n",
    "    \n",
    "    def tiempo_espera(self):\n",
    "        # Aquí puedes definir el tiempo de espera promedio o alguna lógica adicional\n",
    "        return random.randint(30, 180) \n",
    "\n",
    "class ClinicaClasificacion1(Clinica):\n",
    "    def __init__(self, unique_id, model, capacidad=3):  # capacidad default es 3\n",
    "        super().__init__(unique_id, model, capacidad)\n",
    "    \n",
    "    def tiempo_espera(self):\n",
    "        # Aquí puedes definir el tiempo de espera promedio o alguna lógica adicional\n",
    "        return random.randint(10, 60)  # Por ejemplo, entre 10 minutos a 1 hora\n",
    "    \n",
    "class ClinicaClasificadora(Clinica):\n",
    "    def clasificar_paciente(self):\n",
    "        r = random.random()\n",
    "        if r < 0.60:\n",
    "            return 'enfermedad_comun'\n",
    "        elif r < 0.90:  # 30% de probabilidad (60% + 30% = 90%)\n",
    "            return 'urgencia'\n",
    "        else:\n",
    "            return 'clasificacion_1'\n",
    "\n",
    "    "
   ]
  },
  {
   "cell_type": "markdown",
   "metadata": {},
   "source": [
    "#### 2. Definición del Modelo:\n",
    "\n",
    "El modelo controlará la lógica global de la simulación y gestionará todos los agentes."
   ]
  },
  {
   "cell_type": "code",
   "execution_count": 32,
   "metadata": {},
   "outputs": [],
   "source": [
    "from mesa import Model\n",
    "from mesa.time import RandomActivation\n",
    "\n",
    "class HospitalModel(Model):\n",
    "    def __init__(self, N, num_clinicas_clasificadoras=4, num_clinicas_comunes=2, num_clinicas_urgencias=1, num_clinicas_clasificacion1=1):\n",
    "        self.num_pacientes = N\n",
    "        self.schedule = RandomActivation(self)\n",
    "\n",
    "        # Iniciar contadores y acumuladores de tiempo de espera\n",
    "        self.pacientes_enfermedad_comun = 0\n",
    "        self.pacientes_urgencias = 0\n",
    "        self.pacientes_clasificacion_1 = 0\n",
    "        self.tiempo_espera_enfermedad_comun = 0\n",
    "        self.tiempo_espera_urgencias = 0\n",
    "        self.tiempo_espera_clasificacion_1 = 0\n",
    "\n",
    "\n",
    "        # Crear clínicas\n",
    "        self.clinicas_clasificadoras = [ClinicaClasificadora(i, self) for i in range(num_clinicas_clasificadoras)]\n",
    "        self.clinicas_comunes = [ClinicaEnfermedadesComunes(i, self) for i in range(num_clinicas_comunes)]\n",
    "        self.clinicas_urgencias = [ClinicaUrgencias(i+len(self.clinicas_comunes), self) for i in range(num_clinicas_urgencias)]\n",
    "        self.clinicas_clasificacion1 = [ClinicaClasificacion1(i+len(self.clinicas_comunes)+len(self.clinicas_urgencias), self) for i in range(num_clinicas_clasificacion1)]\n",
    "        self.clinicas = self.clinicas_comunes + self.clinicas_urgencias + self.clinicas_clasificacion1 + self.clinicas_clasificadoras\n",
    "\n",
    "        # Crear pacientes\n",
    "        for i in range(self.num_pacientes):\n",
    "            paciente = Paciente(i, self)\n",
    "            self.schedule.add(paciente)\n",
    "\n",
    "    def reporte(self):\n",
    "        print(f\"Cantidad de pacientes que entraron: {self.num_pacientes}\")\n",
    "        print(f\"Cantidad de pacientes de urgencias: {self.pacientes_urgencias}\")\n",
    "        print(f\"Cantidad de pacientes de enfermedad común: {self.pacientes_enfermedad_comun}\")\n",
    "        print(f\"Cantidad de pacientes de clasificación 1: {self.pacientes_clasificacion_1}\")\n",
    "        if self.pacientes_enfermedad_comun != 0:\n",
    "            print(f\"Promedio de tiempo de espera enfermedad común: {self.tiempo_espera_enfermedad_comun / self.pacientes_enfermedad_comun}\")\n",
    "        if self.pacientes_urgencias != 0:\n",
    "            print(f\"Promedio de tiempo de espera urgencias: {self.tiempo_espera_urgencias / self.pacientes_urgencias}\")\n",
    "        if self.pacientes_clasificacion_1 != 0:\n",
    "            print(f\"Promedio de tiempo de espera clasificación 1: {self.tiempo_espera_clasificacion_1 / self.pacientes_clasificacion_1}\")\n",
    "\n",
    "    def step(self):\n",
    "        # Avanza un paso en la simulación\n",
    "        self.schedule.step()\n",
    "\n",
    "    def clinica_disponible(self, tipo_clinica=None):\n",
    "        for clinica in self.clinicas:\n",
    "            if isinstance(clinica, tipo_clinica) and clinica.esta_disponible():\n",
    "                return clinica\n",
    "        return None\n"
   ]
  },
  {
   "cell_type": "markdown",
   "metadata": {},
   "source": [
    "### 3. Ejecución:\n",
    "\n",
    "Se crear una instancia del modelo y se ejecuta:"
   ]
  },
  {
   "cell_type": "code",
   "execution_count": 33,
   "metadata": {},
   "outputs": [
    {
     "name": "stdout",
     "output_type": "stream",
     "text": [
      "Cantidad de pacientes que entraron: 100\n",
      "Cantidad de pacientes de urgencias: 5\n",
      "Cantidad de pacientes de enfermedad común: 14\n",
      "Cantidad de pacientes de clasificación 1: 3\n",
      "Promedio de tiempo de espera enfermedad común: 16.642857142857142\n",
      "Promedio de tiempo de espera urgencias: 55.4\n",
      "Promedio de tiempo de espera clasificación 1: 28.0\n"
     ]
    }
   ],
   "source": [
    "model = HospitalModel(100)  # Por ejemplo, 100 pacientes\n",
    "\n",
    "for i in range(10):  # Ejecuta la simulación durante 10 pasos\n",
    "    model.step()\n",
    "\n",
    "model.reporte()\n"
   ]
  }
 ],
 "metadata": {
  "kernelspec": {
   "display_name": "Python 3",
   "language": "python",
   "name": "python3"
  },
  "language_info": {
   "codemirror_mode": {
    "name": "ipython",
    "version": 3
   },
   "file_extension": ".py",
   "mimetype": "text/x-python",
   "name": "python",
   "nbconvert_exporter": "python",
   "pygments_lexer": "ipython3",
   "version": "3.11.0"
  }
 },
 "nbformat": 4,
 "nbformat_minor": 2
}
